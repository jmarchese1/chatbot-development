{
  "nbformat": 4,
  "nbformat_minor": 0,
  "metadata": {
    "colab": {
      "provenance": []
    },
    "kernelspec": {
      "name": "python3",
      "display_name": "Python 3"
    },
    "language_info": {
      "name": "python"
    }
  },
  "cells": [
    {
      "cell_type": "code",
      "execution_count": 1,
      "metadata": {
        "id": "7kqUHp5bbDng"
      },
      "outputs": [],
      "source": [
        "import random\n",
        "\n",
        "class Enemy:\n",
        "  def __init__(self, type_of_enemy, health_points, attack_damage):\n",
        "    self.__type_of_enemy = type_of_enemy #means the type of enemy cant be altered\n",
        "    self.health_points = health_points\n",
        "    self.attack_damage = attack_damage\n",
        "\n",
        "  def get_type_of_enemy(self):\n",
        "    return self.type_of_enemy\n",
        "\n",
        "  def talk(self):\n",
        "    print(\"I am an ememy\")\n",
        "\n",
        "  def attack(self):\n",
        "    print(f\"{self.__type_of_enemy} attacks for {self.attack_damage} damage\")\n",
        "\n",
        "  def walk_foward(self):\n",
        "    print(f\"{self.__type_of_enemy} walks closer to you.\")\n",
        "\n",
        "  def special_attack(self):\n",
        "    print(\"enemy has no special attack\")"
      ]
    },
    {
      "cell_type": "code",
      "source": [
        "class Zombie(Enemy):\n",
        "  def __init__(self, health_points, attack_damage):\n",
        "    super().__init__(type_of_enemy = \"Zombie\", health_points = health_points, attack_damage = attack_damage)\n",
        "\n",
        "  def talk(self):\n",
        "    print(\"*Grumbling...*\")\n",
        "\n",
        "  def spread_disease(self):\n",
        "    print(f\"The Zombie is trying to spread its disease\")\n",
        "\n",
        "  def special_attack(self):\n",
        "    did_special_attack_work = random.random() < 0.50\n",
        "    if did_special_attack_work:\n",
        "      self.health_points += 2\n",
        "      print(\"Zombbie regenerated 2 HP!\")"
      ],
      "metadata": {
        "id": "W9b1tdYScyi1"
      },
      "execution_count": 2,
      "outputs": []
    },
    {
      "cell_type": "code",
      "source": [
        "class Ogre(Enemy):\n",
        "  def __init__(self, health_points, attack_damage):\n",
        "    super().__init__(type_of_enemy= \"Ogre\",\n",
        "                     health_points=health_points,\n",
        "                     attack_damage = attack_damage)\n",
        "\n",
        "    def talk(self):\n",
        "      print(\"The Ogre is slamming the ground all around.\")\n",
        "\n",
        "    def special_attack(self):\n",
        "      did_special_attack_work = random.random() > 0.2\n",
        "      if did_special_attack_work:\n",
        "        self.attack_damage += 4\n",
        "        print(\"The Ogre's attack has incresed by 4 points!\")"
      ],
      "metadata": {
        "id": "0IyUwR3JfKAP"
      },
      "execution_count": 4,
      "outputs": []
    },
    {
      "cell_type": "code",
      "source": [
        "def battle(e1 : Enemy, e2 : Enemy):\n",
        "  e1.talk()\n",
        "  e2.talk()\n",
        "\n",
        "  while e1.health_points > 0 and e2.health_points > 0:\n",
        "    e1.special_attack()\n",
        "    e2.special_attack()\n",
        "    e2.attack()\n",
        "    e1.health_points -= e2.attack_damage\n",
        "    e1.attack()\n",
        "    e2.health_points -= e1.attack_damage\n",
        "\n",
        "  if e1.health_points > 0:\n",
        "    print(\"Enemy 1 Wins!\")\n",
        "  else:\n",
        "    print(\"Enemy 2 Wins!\")\n",
        "\n",
        "\n"
      ],
      "metadata": {
        "id": "Bruv_ZCkgY7F"
      },
      "execution_count": 3,
      "outputs": []
    },
    {
      "cell_type": "code",
      "source": [
        "Zombie = Zombie(10, 1)\n",
        "Ogre = Ogre(20, 2)"
      ],
      "metadata": {
        "id": "XW5m6LoPjDa6"
      },
      "execution_count": 5,
      "outputs": []
    },
    {
      "cell_type": "code",
      "source": [
        "battle(Zombie, Ogre)"
      ],
      "metadata": {
        "colab": {
          "base_uri": "https://localhost:8080/"
        },
        "id": "PJFL08fpV-lQ",
        "outputId": "8d18b04e-2899-45a5-9c26-813c9971eee2"
      },
      "execution_count": 6,
      "outputs": [
        {
          "output_type": "stream",
          "name": "stdout",
          "text": [
            "*Grumbling...*\n",
            "I am an ememy\n",
            "enemy has no special attack\n",
            "Ogre attacks for 2 damage\n",
            "Zombie attacks for 1 damage\n",
            "enemy has no special attack\n",
            "Ogre attacks for 2 damage\n",
            "Zombie attacks for 1 damage\n",
            "Zombbie regenerated 2 HP!\n",
            "enemy has no special attack\n",
            "Ogre attacks for 2 damage\n",
            "Zombie attacks for 1 damage\n",
            "Zombbie regenerated 2 HP!\n",
            "enemy has no special attack\n",
            "Ogre attacks for 2 damage\n",
            "Zombie attacks for 1 damage\n",
            "enemy has no special attack\n",
            "Ogre attacks for 2 damage\n",
            "Zombie attacks for 1 damage\n",
            "Zombbie regenerated 2 HP!\n",
            "enemy has no special attack\n",
            "Ogre attacks for 2 damage\n",
            "Zombie attacks for 1 damage\n",
            "Zombbie regenerated 2 HP!\n",
            "enemy has no special attack\n",
            "Ogre attacks for 2 damage\n",
            "Zombie attacks for 1 damage\n",
            "enemy has no special attack\n",
            "Ogre attacks for 2 damage\n",
            "Zombie attacks for 1 damage\n",
            "Zombbie regenerated 2 HP!\n",
            "enemy has no special attack\n",
            "Ogre attacks for 2 damage\n",
            "Zombie attacks for 1 damage\n",
            "Zombbie regenerated 2 HP!\n",
            "enemy has no special attack\n",
            "Ogre attacks for 2 damage\n",
            "Zombie attacks for 1 damage\n",
            "Zombbie regenerated 2 HP!\n",
            "enemy has no special attack\n",
            "Ogre attacks for 2 damage\n",
            "Zombie attacks for 1 damage\n",
            "enemy has no special attack\n",
            "Ogre attacks for 2 damage\n",
            "Zombie attacks for 1 damage\n",
            "Enemy 2 Wins!\n"
          ]
        }
      ]
    },
    {
      "cell_type": "code",
      "source": [],
      "metadata": {
        "id": "QO7mR6p5WA0s"
      },
      "execution_count": null,
      "outputs": []
    }
  ]
}