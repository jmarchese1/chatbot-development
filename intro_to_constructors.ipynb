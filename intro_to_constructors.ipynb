{
  "nbformat": 4,
  "nbformat_minor": 0,
  "metadata": {
    "colab": {
      "provenance": []
    },
    "kernelspec": {
      "name": "python3",
      "display_name": "Python 3"
    },
    "language_info": {
      "name": "python"
    }
  },
  "cells": [
    {
      "cell_type": "code",
      "execution_count": 1,
      "metadata": {
        "id": "j0p4WLK1Be9R"
      },
      "outputs": [],
      "source": [
        "class Enemy:\n",
        "\n",
        "  #instantiating the class with parameterized constructor:\n",
        "  def __init__(self, enemy_type, health_points = 10, attack_damage = 1):\n",
        "    self.enemy_type = enemy_type\n",
        "    self.health_points = health_points\n",
        "    self.attack_damage = attack_damage\n"
      ]
    },
    {
      "cell_type": "code",
      "source": [
        "zombie = Enemy(\"zombie\", 15, 2) #can create a custom enemy with any values"
      ],
      "metadata": {
        "id": "VkK1AAX2GDwZ"
      },
      "execution_count": 2,
      "outputs": []
    },
    {
      "cell_type": "code",
      "source": [
        "big_zombie = Enemy(\"big zombie\", 100, 10)"
      ],
      "metadata": {
        "id": "ug5wfjpcGLx1"
      },
      "execution_count": 4,
      "outputs": []
    },
    {
      "cell_type": "code",
      "source": [
        "big_zombie.health_points"
      ],
      "metadata": {
        "colab": {
          "base_uri": "https://localhost:8080/"
        },
        "id": "XRnWga-DGNxk",
        "outputId": "308953e5-1d4c-4cb3-a7bd-291f42b7136e"
      },
      "execution_count": 6,
      "outputs": [
        {
          "output_type": "execute_result",
          "data": {
            "text/plain": [
              "100"
            ]
          },
          "metadata": {},
          "execution_count": 6
        }
      ]
    },
    {
      "cell_type": "code",
      "source": [
        "#can still manually change the enemy types, seems unreasonable to be allowed to update the type of enemy like this:\n",
        "zombie.enemy_type = \"ogre\"\n",
        "print(zombie.enemy_type)"
      ],
      "metadata": {
        "colab": {
          "base_uri": "https://localhost:8080/"
        },
        "id": "ii3h5mAqGfuK",
        "outputId": "5bc43f58-4ffd-4bd2-d9d8-6d22b272578f"
      },
      "execution_count": 7,
      "outputs": [
        {
          "output_type": "stream",
          "name": "stdout",
          "text": [
            "ogre\n"
          ]
        }
      ]
    },
    {
      "cell_type": "code",
      "source": [
        "#to do this need to use encapsulation"
      ],
      "metadata": {
        "id": "jRCh3UarG6Aa"
      },
      "execution_count": null,
      "outputs": []
    }
  ]
}