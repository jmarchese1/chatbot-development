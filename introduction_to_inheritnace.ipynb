{
  "nbformat": 4,
  "nbformat_minor": 0,
  "metadata": {
    "colab": {
      "provenance": []
    },
    "kernelspec": {
      "name": "python3",
      "display_name": "Python 3"
    },
    "language_info": {
      "name": "python"
    }
  },
  "cells": [
    {
      "cell_type": "code",
      "execution_count": 17,
      "metadata": {
        "id": "aVoosEySXfIm"
      },
      "outputs": [],
      "source": [
        "class Enemy:\n",
        "  def __init__(self, enemy_type, health_points, attack_damage):\n",
        "    self.__enemy_type = enemy_type\n",
        "    self.health_points = health_points\n",
        "    self.attack_damage = attack_damage\n",
        "\n",
        "  def talk(self):\n",
        "    print(f\"I am an enemy!\")\n",
        "\n",
        "  def get_enemy_type(self):\n",
        "    return self.__enemy_type\n",
        "\n",
        "class zombie(Enemy):\n",
        "  def __init__(self, health_points, attack_damage):\n",
        "    super().__init__(\"zombie\", health_points = health_points, attack_damage = attack_damage)\n",
        "\n",
        "\n",
        "  def talk(self):\n",
        "      print(\"brains....\")\n",
        "\n",
        "  def move_foward(self):\n",
        "      print(\"zombie sprints foward.\")\n",
        "\n",
        "class Ogre(Enemy):\n",
        "  def __init__(self, health_points, attack_damage):\n",
        "    super().__init__(\"Ogre\", health_points = health_points, attack_damage = attack_damage)\n",
        "\n",
        "  def talk(self):\n",
        "    print(\"ogre slams the ground furiously.\")\n",
        "\n",
        "  def move_foward(self):\n",
        "    print(\"ogre stomps foward.\")\n"
      ]
    },
    {
      "cell_type": "code",
      "source": [
        "zombie = zombie(10, 1)"
      ],
      "metadata": {
        "id": "WsEcWN4uZsqo"
      },
      "execution_count": 13,
      "outputs": []
    },
    {
      "cell_type": "code",
      "source": [
        "zombie.talk()"
      ],
      "metadata": {
        "colab": {
          "base_uri": "https://localhost:8080/"
        },
        "id": "Y7L3z8WgaEOV",
        "outputId": "f31e6f2a-47ba-4375-e7b8-eb260444878c"
      },
      "execution_count": 14,
      "outputs": [
        {
          "output_type": "stream",
          "name": "stdout",
          "text": [
            "grumblinggg... brains\n"
          ]
        }
      ]
    },
    {
      "cell_type": "code",
      "source": [
        "ogre = Ogre(100, 5)"
      ],
      "metadata": {
        "id": "YyrCZo7EaGKW"
      },
      "execution_count": 18,
      "outputs": []
    },
    {
      "cell_type": "code",
      "source": [
        "ogre.talk()"
      ],
      "metadata": {
        "colab": {
          "base_uri": "https://localhost:8080/"
        },
        "id": "Tbp5xHsCbppA",
        "outputId": "7f82e7bc-1b41-427e-c8a0-f0913291f6bd"
      },
      "execution_count": 19,
      "outputs": [
        {
          "output_type": "stream",
          "name": "stdout",
          "text": [
            "ogre slams the ground furiously.\n"
          ]
        }
      ]
    },
    {
      "cell_type": "code",
      "source": [
        "ogre.move_foward()"
      ],
      "metadata": {
        "colab": {
          "base_uri": "https://localhost:8080/"
        },
        "id": "ZqN0Pq41brF4",
        "outputId": "9e56e64b-d4dd-43d1-a914-60e1747ffc7d"
      },
      "execution_count": 20,
      "outputs": [
        {
          "output_type": "stream",
          "name": "stdout",
          "text": [
            "ogre stomps foward.\n"
          ]
        }
      ]
    },
    {
      "cell_type": "code",
      "source": [
        "ogre.health_points"
      ],
      "metadata": {
        "colab": {
          "base_uri": "https://localhost:8080/"
        },
        "id": "6ALsowmybsuy",
        "outputId": "4099033a-545e-4904-d520-1b3f12abf067"
      },
      "execution_count": 21,
      "outputs": [
        {
          "output_type": "execute_result",
          "data": {
            "text/plain": [
              "100"
            ]
          },
          "metadata": {},
          "execution_count": 21
        }
      ]
    },
    {
      "cell_type": "code",
      "source": [
        "#create a custom enemy\n",
        "witch = Enemy(\"witch\", 5, 20)"
      ],
      "metadata": {
        "id": "tgGC7SD4bv-W"
      },
      "execution_count": 22,
      "outputs": []
    },
    {
      "cell_type": "code",
      "source": [
        "witch.talk() #falls back to the parent class"
      ],
      "metadata": {
        "colab": {
          "base_uri": "https://localhost:8080/"
        },
        "id": "vfZ85xytb55V",
        "outputId": "c069d377-eb62-4165-dd40-6e2bacea2575"
      },
      "execution_count": 23,
      "outputs": [
        {
          "output_type": "stream",
          "name": "stdout",
          "text": [
            "I am an enemy!\n"
          ]
        }
      ]
    },
    {
      "cell_type": "code",
      "source": [
        "witch.get_enemy_type() #returns function that is only initalized inside the parent class"
      ],
      "metadata": {
        "colab": {
          "base_uri": "https://localhost:8080/",
          "height": 35
        },
        "id": "tBjpYSNmb7k1",
        "outputId": "d3e6a5e4-d5f3-4d9b-db9e-e62286b28a1c"
      },
      "execution_count": 25,
      "outputs": [
        {
          "output_type": "execute_result",
          "data": {
            "text/plain": [
              "'witch'"
            ],
            "application/vnd.google.colaboratory.intrinsic+json": {
              "type": "string"
            }
          },
          "metadata": {},
          "execution_count": 25
        }
      ]
    },
    {
      "cell_type": "code",
      "source": [
        "ogre.get_enemy_type() #accessing the parent class from the child class"
      ],
      "metadata": {
        "colab": {
          "base_uri": "https://localhost:8080/",
          "height": 35
        },
        "id": "Xn6iP3ATcA2U",
        "outputId": "7c143d68-cbe4-4139-a4fc-0bbe2969559d"
      },
      "execution_count": 26,
      "outputs": [
        {
          "output_type": "execute_result",
          "data": {
            "text/plain": [
              "'Ogre'"
            ],
            "application/vnd.google.colaboratory.intrinsic+json": {
              "type": "string"
            }
          },
          "metadata": {},
          "execution_count": 26
        }
      ]
    },
    {
      "cell_type": "code",
      "source": [],
      "metadata": {
        "id": "6_uBuOwpcJeM"
      },
      "execution_count": null,
      "outputs": []
    }
  ]
}