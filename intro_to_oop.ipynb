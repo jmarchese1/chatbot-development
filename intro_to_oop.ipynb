{
  "nbformat": 4,
  "nbformat_minor": 0,
  "metadata": {
    "colab": {
      "provenance": []
    },
    "kernelspec": {
      "name": "python3",
      "display_name": "Python 3"
    },
    "language_info": {
      "name": "python"
    }
  },
  "cells": [
    {
      "cell_type": "code",
      "execution_count": 17,
      "metadata": {
        "id": "Ku1oMVHO7zD5"
      },
      "outputs": [],
      "source": [
        "class Enemy:\n",
        "  type_of_enemy : str\n",
        "  health_points : int = 10\n",
        "  attack_damage : int = 1\n",
        "\n",
        "  def talk(self):\n",
        "    print(f\"I am a {self.type_of_enemy}. Be prepare to fight!\")\n",
        "\n",
        "  def walk_foward(self):\n",
        "    print(f\"{self.type_of_enemy} moves closer to you\")\n",
        "\n",
        "  def attack(self):\n",
        "    print(f\"{self.type_of_enemy} attacks for {self.attack_damage} damage\")"
      ]
    },
    {
      "cell_type": "code",
      "source": [
        "zombie = Enemy()\n",
        "zombie.type_of_enemy = \"zombie\""
      ],
      "metadata": {
        "id": "8sp_aPXD8E7L"
      },
      "execution_count": 18,
      "outputs": []
    },
    {
      "cell_type": "code",
      "source": [
        "zombie.talk(), zombie.walk_foward(), zombie.attack()"
      ],
      "metadata": {
        "colab": {
          "base_uri": "https://localhost:8080/"
        },
        "id": "TT3epgJA8W69",
        "outputId": "0b7d30e0-0f8f-49da-dceb-f7476d07d4da"
      },
      "execution_count": 20,
      "outputs": [
        {
          "output_type": "stream",
          "name": "stdout",
          "text": [
            "I am a zombie. Be prepare to fight!\n",
            "zombie moves closer to you\n",
            "zombie attacks for 1 damage\n"
          ]
        },
        {
          "output_type": "execute_result",
          "data": {
            "text/plain": [
              "(None, None, None)"
            ]
          },
          "metadata": {},
          "execution_count": 20
        }
      ]
    },
    {
      "cell_type": "code",
      "source": [],
      "metadata": {
        "id": "mkAuZoro8Yv4"
      },
      "execution_count": 15,
      "outputs": []
    },
    {
      "cell_type": "code",
      "source": [],
      "metadata": {
        "id": "hsftW_0I9Usa"
      },
      "execution_count": null,
      "outputs": []
    }
  ]
}