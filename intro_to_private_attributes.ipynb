{
  "nbformat": 4,
  "nbformat_minor": 0,
  "metadata": {
    "colab": {
      "provenance": []
    },
    "kernelspec": {
      "name": "python3",
      "display_name": "Python 3"
    },
    "language_info": {
      "name": "python"
    }
  },
  "cells": [
    {
      "cell_type": "code",
      "execution_count": 2,
      "metadata": {
        "id": "en2H6obkPYNa"
      },
      "outputs": [],
      "source": [
        "class Enemy:\n",
        "  def __init__(self, enemy_type, health_points = 10, attack_damage = 1):\n",
        "    self.__enemy_type = enemy_type\n",
        "    self.health_points = health_points\n",
        "    self.attack_damage = attack_damage\n",
        "\n",
        "  def talk(self):\n",
        "    print(f\"I am a {self.__enemy_type}. Prepare to fight!\")\n",
        "\n",
        "  def move_foward(self):\n",
        "    print(f\"{self.__enemy_type} moves toward you.\")\n",
        "\n",
        "  def attack(self):\n",
        "    print(f\"{self.__enemy_type} deals {self.attack_damage} damage to you.\")\n",
        "\n",
        "  def get_enemy_type(self):\n",
        "    return self.__enemy_type"
      ]
    },
    {
      "cell_type": "code",
      "source": [
        "zombie = Enemy(\"zombie\", 15, 2)"
      ],
      "metadata": {
        "id": "aWCRIWCcQi_l"
      },
      "execution_count": 3,
      "outputs": []
    },
    {
      "cell_type": "code",
      "source": [
        "zombie.__enemy_type #cant find this because its a private attribute now"
      ],
      "metadata": {
        "colab": {
          "base_uri": "https://localhost:8080/",
          "height": 141
        },
        "id": "cRJfnwfIRWub",
        "outputId": "f062fd0e-fc60-4b0a-99db-8951005b81b1"
      },
      "execution_count": 4,
      "outputs": [
        {
          "output_type": "error",
          "ename": "AttributeError",
          "evalue": "'Enemy' object has no attribute '__enemy_type'",
          "traceback": [
            "\u001b[0;31m---------------------------------------------------------------------------\u001b[0m",
            "\u001b[0;31mAttributeError\u001b[0m                            Traceback (most recent call last)",
            "\u001b[0;32m<ipython-input-4-8c66e9b651d6>\u001b[0m in \u001b[0;36m<cell line: 0>\u001b[0;34m()\u001b[0m\n\u001b[0;32m----> 1\u001b[0;31m \u001b[0mzombie\u001b[0m\u001b[0;34m.\u001b[0m\u001b[0m__enemy_type\u001b[0m\u001b[0;34m\u001b[0m\u001b[0;34m\u001b[0m\u001b[0m\n\u001b[0m",
            "\u001b[0;31mAttributeError\u001b[0m: 'Enemy' object has no attribute '__enemy_type'"
          ]
        }
      ]
    },
    {
      "cell_type": "code",
      "source": [
        "zombie.health_points #public attribute"
      ],
      "metadata": {
        "colab": {
          "base_uri": "https://localhost:8080/"
        },
        "id": "nLZkNKN-RYaQ",
        "outputId": "9fe8d010-2963-4479-821e-f48e1f1a5b43"
      },
      "execution_count": 5,
      "outputs": [
        {
          "output_type": "execute_result",
          "data": {
            "text/plain": [
              "15"
            ]
          },
          "metadata": {},
          "execution_count": 5
        }
      ]
    },
    {
      "cell_type": "code",
      "source": [
        "zombie.get_enemy_type() #this is a getter function to display that type of enemy but makes sure it can not be updated"
      ],
      "metadata": {
        "colab": {
          "base_uri": "https://localhost:8080/",
          "height": 35
        },
        "id": "8HnpSMBeRg20",
        "outputId": "33bfab32-3381-4652-e69e-d34106c42e17"
      },
      "execution_count": 6,
      "outputs": [
        {
          "output_type": "execute_result",
          "data": {
            "text/plain": [
              "'zombie'"
            ],
            "application/vnd.google.colaboratory.intrinsic+json": {
              "type": "string"
            }
          },
          "metadata": {},
          "execution_count": 6
        }
      ]
    },
    {
      "cell_type": "code",
      "source": [],
      "metadata": {
        "id": "o-CrQez_Rlh_"
      },
      "execution_count": null,
      "outputs": []
    }
  ]
}